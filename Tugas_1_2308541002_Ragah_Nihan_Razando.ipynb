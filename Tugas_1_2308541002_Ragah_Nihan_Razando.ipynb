{
 "cells": [
  {
   "cell_type": "code",
   "execution_count": 1,
   "id": "54ee0d50",
   "metadata": {
    "execution": {
     "iopub.execute_input": "2024-03-19T14:18:01.348127Z",
     "iopub.status.busy": "2024-03-19T14:18:01.347637Z",
     "iopub.status.idle": "2024-03-19T14:18:01.928017Z",
     "shell.execute_reply": "2024-03-19T14:18:01.926392Z"
    },
    "papermill": {
     "duration": 0.586628,
     "end_time": "2024-03-19T14:18:01.930220",
     "exception": true,
     "start_time": "2024-03-19T14:18:01.343592",
     "status": "failed"
    },
    "tags": []
   },
   "outputs": [
    {
     "ename": "StdinNotImplementedError",
     "evalue": "raw_input was called, but this frontend does not support input requests.",
     "output_type": "error",
     "traceback": [
      "\u001b[0;31m---------------------------------------------------------------------------\u001b[0m",
      "\u001b[0;31mStdinNotImplementedError\u001b[0m                  Traceback (most recent call last)",
      "Cell \u001b[0;32mIn[1], line 1\u001b[0m\n\u001b[0;32m----> 1\u001b[0m Nama \u001b[38;5;241m=\u001b[39m \u001b[38;5;28;43minput\u001b[39;49m\u001b[43m(\u001b[49m\u001b[38;5;124;43m\"\u001b[39;49m\u001b[38;5;124;43mHii!! Siapa namamu? :3 \u001b[39;49m\u001b[38;5;124;43m\"\u001b[39;49m\u001b[43m)\u001b[49m\n\u001b[1;32m      2\u001b[0m Sambutan \u001b[38;5;241m=\u001b[39m (\u001b[38;5;124m\"\u001b[39m\u001b[38;5;124mHalo \u001b[39m\u001b[38;5;124m\"\u001b[39m \u001b[38;5;241m+\u001b[39m Nama \u001b[38;5;241m+\u001b[39m \u001b[38;5;124m\"\u001b[39m\u001b[38;5;124m!! Selamat Datang di Warung Ayam Kampus Jimbaran\u001b[39m\u001b[38;5;124m\"\u001b[39m)\n\u001b[1;32m      3\u001b[0m \u001b[38;5;28mprint\u001b[39m(Sambutan)\n",
      "File \u001b[0;32m/opt/conda/lib/python3.10/site-packages/ipykernel/kernelbase.py:1261\u001b[0m, in \u001b[0;36mKernel.raw_input\u001b[0;34m(self, prompt)\u001b[0m\n\u001b[1;32m   1259\u001b[0m \u001b[38;5;28;01mif\u001b[39;00m \u001b[38;5;129;01mnot\u001b[39;00m \u001b[38;5;28mself\u001b[39m\u001b[38;5;241m.\u001b[39m_allow_stdin:\n\u001b[1;32m   1260\u001b[0m     msg \u001b[38;5;241m=\u001b[39m \u001b[38;5;124m\"\u001b[39m\u001b[38;5;124mraw_input was called, but this frontend does not support input requests.\u001b[39m\u001b[38;5;124m\"\u001b[39m\n\u001b[0;32m-> 1261\u001b[0m     \u001b[38;5;28;01mraise\u001b[39;00m StdinNotImplementedError(msg)\n\u001b[1;32m   1262\u001b[0m \u001b[38;5;28;01mreturn\u001b[39;00m \u001b[38;5;28mself\u001b[39m\u001b[38;5;241m.\u001b[39m_input_request(\n\u001b[1;32m   1263\u001b[0m     \u001b[38;5;28mstr\u001b[39m(prompt),\n\u001b[1;32m   1264\u001b[0m     \u001b[38;5;28mself\u001b[39m\u001b[38;5;241m.\u001b[39m_parent_ident[\u001b[38;5;124m\"\u001b[39m\u001b[38;5;124mshell\u001b[39m\u001b[38;5;124m\"\u001b[39m],\n\u001b[1;32m   1265\u001b[0m     \u001b[38;5;28mself\u001b[39m\u001b[38;5;241m.\u001b[39mget_parent(\u001b[38;5;124m\"\u001b[39m\u001b[38;5;124mshell\u001b[39m\u001b[38;5;124m\"\u001b[39m),\n\u001b[1;32m   1266\u001b[0m     password\u001b[38;5;241m=\u001b[39m\u001b[38;5;28;01mFalse\u001b[39;00m,\n\u001b[1;32m   1267\u001b[0m )\n",
      "\u001b[0;31mStdinNotImplementedError\u001b[0m: raw_input was called, but this frontend does not support input requests."
     ]
    }
   ],
   "source": [
    "Nama = input(\"Hii!! Siapa namamu? :3 \")\n",
    "Sambutan = (\"Halo \" + Nama + \"!! Selamat Datang di Warung Ayam Kampus Jimbaran\")\n",
    "print(Sambutan)\n",
    "print(\"Menu Warung Makan Ayam Kampus Jimbaran:\")\n",
    "Menu = (\"\\n1.Ayam Geprek   : Rp. 12.000\\n2.Ayam Gepuk    : Rp. 12.000\\n3.Ayam Korean   : Rp. 13.000\\n4.Ayam Bakar    : Rp. 13.000\\n5.Ayam Goreng   : Rp. 10.000\")\n",
    "print(Menu)\n",
    "print()\n",
    "Pesan = input(\"Mau pesen apa \" + Nama + \"? (1/2/3/4/5)\")\n",
    "if Pesan == '1':\n",
    "    A1 = input(\"Ayam Gepuknya mau pesan berapa? (Masukkan nominal)\")\n",
    "    A1 = int(A1)\n",
    "    if A1 > 0:\n",
    "         print(\"Baik , akan kami buat terlebih dahulu. Mohon tunggu sebentar ya!\")\n",
    "    else:\n",
    "        print (\"Maaf kami tidak mengerti maksud anda\")\n",
    "elif Pesan == '2':\n",
    "    A2 = input(\"Ayam Gepreknya mau pesan berapa? (Masukkan nominal)\")\n",
    "    A2 = int(A2)\n",
    "    if A2 > 0:\n",
    "        print(\"Baik , akan kami buat terlebih dahulu. Mohon tunggu sebentar ya!\")\n",
    "    else:\n",
    "        print (\"Maaf kami tidak mengerti maksud anda\")\n",
    "elif Pesan == '3':\n",
    "    A3 = input(\"Ayam Koreannya mau pesan berapa? (Masukkan nominal)\")\n",
    "    A3 = int(A3)\n",
    "    if A3 > 0:\n",
    "        print(\"Baik , akan kami buat terlebih dahulu. Mohon tunggu sebentar ya!\")\n",
    "    else:\n",
    "        print (\"Maaf kami tidak mengerti maksud anda\")\n",
    "elif Pesan == '4':\n",
    "    A4 = input(\"Ayam Bakarnya mau pesan berapa? (Masukkan nominal)\")\n",
    "    A4 = int(A4)\n",
    "    if A4 > 0:\n",
    "        print(\"Baik , akan kami buat terlebih dahulu. Mohon tunggu sebentar ya!\")\n",
    "    else:\n",
    "        print (\"Maaf kami tidak mengerti maksud anda\")\n",
    "elif Pesan == '5':\n",
    "    A5 = input(\"Ayam Gorengnya mau pesan berapa? (Masukkan nominal)\")\n",
    "    A5 = int(A5)\n",
    "    if A5 > 0:\n",
    "        print(\"Baik , akan kami buat terlebih dahulu. Mohon tunggu sebentar ya!\")\n",
    "print()\n",
    "print(\"Pesanan anda sedang diantarkan. Terima Kasih sudah pesan di Warung kami!!!\")"
   ]
  }
 ],
 "metadata": {
  "kaggle": {
   "accelerator": "none",
   "dataSources": [],
   "dockerImageVersionId": 30664,
   "isGpuEnabled": false,
   "isInternetEnabled": false,
   "language": "python",
   "sourceType": "notebook"
  },
  "kernelspec": {
   "display_name": "Python 3",
   "language": "python",
   "name": "python3"
  },
  "language_info": {
   "codemirror_mode": {
    "name": "ipython",
    "version": 3
   },
   "file_extension": ".py",
   "mimetype": "text/x-python",
   "name": "python",
   "nbconvert_exporter": "python",
   "pygments_lexer": "ipython3",
   "version": "3.10.13"
  },
  "papermill": {
   "default_parameters": {},
   "duration": 4.634792,
   "end_time": "2024-03-19T14:18:02.655142",
   "environment_variables": {},
   "exception": true,
   "input_path": "__notebook__.ipynb",
   "output_path": "__notebook__.ipynb",
   "parameters": {},
   "start_time": "2024-03-19T14:17:58.020350",
   "version": "2.5.0"
  }
 },
 "nbformat": 4,
 "nbformat_minor": 5
}
